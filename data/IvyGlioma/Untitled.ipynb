{
 "cells": [
  {
   "cell_type": "code",
   "execution_count": 47,
   "metadata": {},
   "outputs": [],
   "source": [
    "import pandas as pd\n",
    "import os\n",
    "import numpy as np\n"
   ]
  },
  {
   "cell_type": "code",
   "execution_count": 43,
   "metadata": {},
   "outputs": [],
   "source": [
    "folders = ['0SNNVB1X0T11_0zscore', \n",
    " 'AL6SXX1E6T12_2000zscore',\n",
    " 'AL6SXX1E6T12_4000zscore',\n",
    " 'AL6SXX1E6T12_6000zscore',\n",
    " 'AL6SXX1E6T12_8000zscore',\n",
    " 'AL6SXX1E6T12_10000zscore']"
   ]
  },
  {
   "cell_type": "code",
   "execution_count": 79,
   "metadata": {},
   "outputs": [],
   "source": [
    "expression_all = None\n",
    "probes_all = None\n",
    "\n",
    "for folder in folders:\n",
    "    column = pd.read_csv(os.path.join(folder, 'columns.csv'))\n",
    "    column_names = column['donor_name'].str.cat(column['sample_well'].astype(str), sep=\"_well\")\n",
    "    expression = pd.read_csv(os.path.join(folder, 'Expression.csv'), index_col=0, names=column_names)\n",
    "    probes = pd.read_csv(os.path.join(folder, 'Probes.csv'))\n",
    "    \n",
    "    if expression_all is None:\n",
    "        expression_all = expression\n",
    "    else:\n",
    "        expression_all = pd.concat((expression_all, expression), axis=0)\n",
    "    \n",
    "    if probes_all is None:\n",
    "        probes_all = probes\n",
    "    else:\n",
    "        probes_all = pd.concat((probes_all, probes), axis=0)\n"
   ]
  },
  {
   "cell_type": "code",
   "execution_count": 82,
   "metadata": {},
   "outputs": [
    {
     "data": {
      "text/plain": [
       "0               AQP1\n",
       "1               BCAN\n",
       "2               GAS1\n",
       "3              UHRF1\n",
       "4              OLIG1\n",
       "            ...     \n",
       "1032            AMBN\n",
       "1033       LOC340508\n",
       "1034    SENP3-EIF4A1\n",
       "1035         FAM169B\n",
       "1036           TULP1\n",
       "Name: gene-symbol, Length: 11037, dtype: object"
      ]
     },
     "execution_count": 82,
     "metadata": {},
     "output_type": "execute_result"
    }
   ],
   "source": [
    "probes_all['gene-symbol']"
   ]
  },
  {
   "cell_type": "code",
   "execution_count": null,
   "metadata": {},
   "outputs": [],
   "source": []
  }
 ],
 "metadata": {
  "kernelspec": {
   "display_name": "Python 3",
   "language": "python",
   "name": "python3"
  },
  "language_info": {
   "codemirror_mode": {
    "name": "ipython",
    "version": 3
   },
   "file_extension": ".py",
   "mimetype": "text/x-python",
   "name": "python",
   "nbconvert_exporter": "python",
   "pygments_lexer": "ipython3",
   "version": "3.7.3"
  }
 },
 "nbformat": 4,
 "nbformat_minor": 2
}
